{
 "cells": [
  {
   "cell_type": "code",
   "execution_count": null,
   "outputs": [],
   "source": [
    "import re\n",
    "import openai\n",
    "import json\n",
    "import numpy as np\n",
    "import time\n",
    "from datasets import load_dataset\n",
    "from tqdm.notebook import tqdm\n",
    "from sklearn.metrics import confusion_matrix\n",
    "import random\n",
    "random.seed(42)\n",
    "\n",
    "with open(\"../api_key.txt\", \"r\") as f:\n",
    "    openai.api_key = f.read().strip()"
   ],
   "metadata": {
    "collapsed": false,
    "ExecuteTime": {
     "start_time": "2023-06-22T09:54:59.784451Z",
     "end_time": "2023-06-22T09:55:05.223929Z"
    }
   }
  },
  {
   "cell_type": "code",
   "execution_count": null,
   "id": "4b9b6952",
   "metadata": {
    "ExecuteTime": {
     "start_time": "2023-06-22T10:37:01.645277Z",
     "end_time": "2023-06-22T10:37:05.588514Z"
    }
   },
   "outputs": [],
   "source": [
    "test_subset_name = \"attreval_gensearch\"\n",
    "model = \"gpt-4\"\n",
    "# model = \"gpt-3.5-turbo\"\n",
    "\n",
    "# mode = \"few_shot\"\n",
    "mode = \"zero_shot\"\n",
    "\n",
    "test_data = [row for row in load_dataset(\"osunlp/AttrScore\",test_subset_name)['test']]\n",
    "\n",
    "TASK_PROMPTS = {p['task_name']:[p['prompt_template'],p['input_template'],p['label_map']] for p in json.load(open(\"../task_prompts.json\"))}"
   ]
  },
  {
   "cell_type": "code",
   "execution_count": null,
   "id": "f1d94bc0",
   "metadata": {
    "ExecuteTime": {
     "start_time": "2023-06-22T09:55:17.219660Z",
     "end_time": "2023-06-22T09:55:17.373705Z"
    }
   },
   "outputs": [],
   "source": [
    "def read_few_shot_demo(prompt_type):\n",
    "    demo_file_name = {\"attribution-no-definition\": \"demo_attr.txt\",\n",
    "                                  \"attribution-with-definition\": \"demo_attr.txt\",\n",
    "                                  \"fact-checking\": \"demo_fact-checking.txt\",\n",
    "                                  \"nli\": \"demo_NLI.txt\",\n",
    "                                  \"summarization\": \"demo_sum.txt\"}\n",
    "    with open(f\"../few-shot-demo/{demo_file_name[prompt_type]}\") as rf:\n",
    "        demo_str = rf.read()\n",
    "        rf.close()\n",
    "    return demo_str"
   ]
  },
  {
   "cell_type": "code",
   "execution_count": null,
   "id": "2221e8d2",
   "metadata": {
    "ExecuteTime": {
     "start_time": "2023-06-22T09:55:23.415248Z",
     "end_time": "2023-06-22T09:55:23.741898Z"
    }
   },
   "outputs": [],
   "source": [
    "def format_prompt(example, prompt_type = \"attribution-with-definition\", input_has_query = True, mode=\"zero_shot\"):\n",
    "    task_prompt, input_template, _ = TASK_PROMPTS[prompt_type]\n",
    "    if input_has_query:\n",
    "        query = example['query'] if example['query'] and example['query'] not in [\"nan\",\"\"] else \"\"\n",
    "        answer = example['answer'] if example['answer'] and example['answer'] not in [\"nan\",\"\"] else \"\"\n",
    "        input = input_template.format(query + \" \" + answer, example['reference'])\n",
    "\n",
    "    else:\n",
    "        answer = example['answer'] if example['answer'] and example['answer'] not in [\"nan\",\"\"] else \"\"\n",
    "        input = input_template.format(answer, example['reference'])\n",
    "    \n",
    "    if mode==\"few_shot\":\n",
    "        demo_str = read_few_shot_demo(prompt_type)\n",
    "        prompt = \"\\n{}\\n{}\\n\\n### Input: \\n{}\\n### Response:\".format(task_prompt,demo_str,input)\n",
    "    else:\n",
    "        prompt = \"\\n{}\\n\\n### Input: \\n{}\\n### Response:\".format(task_prompt,input)\n",
    "    \n",
    "    return prompt"
   ]
  },
  {
   "cell_type": "code",
   "execution_count": null,
   "id": "ca09caff",
   "metadata": {
    "ExecuteTime": {
     "start_time": "2023-06-22T10:37:20.945662Z",
     "end_time": "2023-06-22T10:37:20.996358Z"
    }
   },
   "outputs": [],
   "source": [
    "def get_attr_from_chatgpt(prompt, model=\"gpt-3.5-turbo\"):\n",
    "    messages=[\n",
    "        # {\"role\": \"system\", \"content\": \"You are a helpful assistant.\"},\n",
    "        {\"role\": \"user\", \"content\": prompt},\n",
    "    ]\n",
    "    while True:\n",
    "        try:\n",
    "            response = openai.ChatCompletion.create(\n",
    "                model=model,\n",
    "                messages=messages,\n",
    "                temperature=0,\n",
    "                top_p=0.9,\n",
    "                max_tokens=512,\n",
    "                n=1\n",
    "            )\n",
    "            # print(response)\n",
    "            return response['choices'][0]['message']['content'].strip()\n",
    "        except:\n",
    "            print(\"error\")\n",
    "            time.sleep(5)"
   ]
  },
  {
   "cell_type": "code",
   "execution_count": null,
   "id": "f981e805",
   "metadata": {
    "ExecuteTime": {
     "start_time": "2023-06-22T10:37:25.088167Z",
     "end_time": "2023-06-22T10:37:26.687380Z"
    }
   },
   "outputs": [],
   "source": [
    "prompt = format_prompt(test_data[91],'attribution-with-definition',input_has_query=True,mode=mode)\n",
    "response = get_attr_from_chatgpt(prompt,model)\n",
    "print(prompt)\n",
    "print(response)"
   ]
  },
  {
   "cell_type": "code",
   "execution_count": null,
   "outputs": [],
   "source": [
    "output_file = \"./{}_{}_{}_result.json\".format(model,test_subset_name,mode)\n",
    "print(output_file)"
   ],
   "metadata": {
    "collapsed": false,
    "ExecuteTime": {
     "start_time": "2023-06-22T09:55:49.762040Z",
     "end_time": "2023-06-22T09:55:49.823802Z"
    }
   }
  },
  {
   "cell_type": "code",
   "execution_count": null,
   "outputs": [],
   "source": [
    "\n",
    "#downsample to save cost\n",
    "\n",
    "# random.shuffle(test_data)\n",
    "# test_data = test_data[:500]\n",
    "\n",
    "for task_name in [\"attribution-with-definition\"]:\n",
    "    res_key = '{}.eval.{}'.format(model,task_name)\n",
    "\n",
    "    for example in tqdm(test_data):\n",
    "        prompt = format_prompt(example,prompt_type=task_name,mode=mode)\n",
    "        example[res_key] = get_attr_from_chatgpt(prompt,model)\n",
    "\n",
    "json.dump(test_data,open(output_file,'w'))"
   ],
   "metadata": {
    "collapsed": false,
    "ExecuteTime": {
     "start_time": "2023-06-22T09:55:57.428922Z",
     "end_time": "2023-06-22T10:06:46.099623Z"
    }
   }
  },
  {
   "cell_type": "code",
   "execution_count": null,
   "id": "24cbf48d",
   "metadata": {
    "ExecuteTime": {
     "start_time": "2023-06-22T10:08:25.176923Z",
     "end_time": "2023-06-22T10:08:25.279173Z"
    }
   },
   "outputs": [],
   "source": [
    "def extract_pred_label(prediction, prompt_type = \"attribution-with-definition\"):\n",
    "    label_map = TASK_PROMPTS[prompt_type][-1]\n",
    "    label_regex = r\"|\".join(list(label_map.keys()))\n",
    "\n",
    "    pred_label = re.search(label_regex, prediction, re.IGNORECASE).group() if re.search(\n",
    "            label_regex,\n",
    "            prediction, re.IGNORECASE) is not None else 'None'\n",
    "\n",
    "    pred_label = label_map[pred_label.capitalize()] if pred_label.capitalize() in label_map else \"None\"\n",
    "    return pred_label\n"
   ]
  },
  {
   "cell_type": "code",
   "execution_count": null,
   "id": "baf36908",
   "metadata": {
    "ExecuteTime": {
     "start_time": "2023-06-22T10:08:26.922200Z",
     "end_time": "2023-06-22T10:08:26.999181Z"
    }
   },
   "outputs": [],
   "source": [
    "def evaluate_confusion_matrix(confusion_matrix):\n",
    "    num_classes = confusion_matrix.shape[0]\n",
    "    precision = np.zeros(num_classes)\n",
    "    recall = np.zeros(num_classes)\n",
    "    f1 = np.zeros(num_classes)\n",
    "\n",
    "    for i in range(num_classes):\n",
    "        true_positives = confusion_matrix[i, i]\n",
    "        false_positives = np.sum(confusion_matrix[:, i]) - true_positives\n",
    "        false_negatives = np.sum(confusion_matrix[i, :]) - true_positives\n",
    "\n",
    "        precision[i] = true_positives / (true_positives + false_positives)\n",
    "        recall[i] = true_positives / (true_positives + false_negatives)\n",
    "        f1[i] = 2 * precision[i] * recall[i] / (precision[i] + recall[i])\n",
    "\n",
    "    micro_true_positives = np.sum(np.diag(confusion_matrix))\n",
    "    micro_false_positives = np.sum(confusion_matrix, axis=0) - np.diag(confusion_matrix)\n",
    "\n",
    "    micro_f1 = micro_true_positives / (micro_true_positives + np.sum(micro_false_positives))\n",
    "    macro_f1 = np.mean(f1)\n",
    "\n",
    "    return precision, recall, f1, micro_f1, macro_f1"
   ]
  },
  {
   "cell_type": "code",
   "execution_count": null,
   "id": "960f0ff1",
   "metadata": {
    "ExecuteTime": {
     "start_time": "2023-06-22T10:08:27.895356Z",
     "end_time": "2023-06-22T10:08:28.020870Z"
    }
   },
   "outputs": [],
   "source": [
    "for task_name in [\"attribution-with-definition\"]:\n",
    "    res_key = '{}.eval.{}'.format(model,task_name)\n",
    "    pred_labels = [extract_pred_label(example[res_key], prompt_type=task_name) for example in json.load(open(output_file))]\n",
    "    true_labels = [example['label'] for example in json.load(open(output_file))]\n",
    "    conf_matrix = confusion_matrix(true_labels, pred_labels, labels=[\"Attributable\", \"Contradictory\", \"Extrapolatory\"])\n",
    "\n",
    "    precision, recall, f1, micro_f1, macro_f1 = evaluate_confusion_matrix(conf_matrix)\n",
    "\n",
    "    print(task_name)\n",
    "    print(conf_matrix)\n",
    "    print(\"Precision:\", precision)\n",
    "    print(\"Recall:\", recall)\n",
    "    print(\"F1:\", f1)\n",
    "    print(\"micro_f1:\", micro_f1)\n",
    "    print(\"macro_f1:\", macro_f1)"
   ]
  }
 ],
 "metadata": {
  "kernelspec": {
   "display_name": "Python 3",
   "language": "python",
   "name": "python3"
  },
  "language_info": {
   "codemirror_mode": {
    "name": "ipython",
    "version": 3
   },
   "file_extension": ".py",
   "mimetype": "text/x-python",
   "name": "python",
   "nbconvert_exporter": "python",
   "pygments_lexer": "ipython3",
   "version": "3.7.3"
  }
 },
 "nbformat": 4,
 "nbformat_minor": 5
}
